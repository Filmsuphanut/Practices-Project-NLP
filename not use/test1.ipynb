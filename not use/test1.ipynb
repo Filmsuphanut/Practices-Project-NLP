{
 "cells": [
  {
   "cell_type": "code",
   "execution_count": 1,
   "metadata": {},
   "outputs": [],
   "source": [
    "import pandas as pd\n",
    "import numpy as np\n",
    "import regex as re\n",
    "#import attacut\n",
    "from sklearn.feature_extraction.text import CountVectorizer,TfidfVectorizer\n",
    "from pythainlp import sent_tokenize, word_tokenize\n",
    "import glob"
   ]
  },
  {
   "cell_type": "code",
   "execution_count": 2,
   "metadata": {},
   "outputs": [
    {
     "data": {
      "text/plain": [
       "['data\\\\ardwarong\\\\d1.txt',\n",
       " 'data\\\\ardwarong\\\\d10.txt',\n",
       " 'data\\\\ardwarong\\\\d2.txt',\n",
       " 'data\\\\ardwarong\\\\d3.txt',\n",
       " 'data\\\\ardwarong\\\\d4.txt',\n",
       " 'data\\\\ardwarong\\\\d5.txt',\n",
       " 'data\\\\ardwarong\\\\d6.txt',\n",
       " 'data\\\\ardwarong\\\\d7.txt',\n",
       " 'data\\\\ardwarong\\\\d8.txt',\n",
       " 'data\\\\ardwarong\\\\d9.txt']"
      ]
     },
     "execution_count": 2,
     "metadata": {},
     "output_type": "execute_result"
    }
   ],
   "source": [
    "docs = []\n",
    "regexp = re.compile(r'[{}()%*,+-\\d\\s\\t\\n\"\"''‘’“”.]', re.UNICODE)\n",
    "files = glob.glob(\"data/*/**.txt\",recursive=True)\n",
    "for f in files:\n",
    "    file = open(f,mode=\"r\",encoding=\"utf-8\")\n",
    "    data = file.read()\n",
    "    data = regexp.sub('', data)\n",
    "    docs.append(data)\n",
    "    file.close()\n",
    "files"
   ]
  },
  {
   "cell_type": "code",
   "execution_count": 3,
   "metadata": {},
   "outputs": [],
   "source": [
    "#notebook.output.textLineLimit\n",
    "deepcut_doc_token = []\n",
    "attacut_doc_token = []\n",
    "for d in docs:\n",
    "   attacut_doc_token.append(word_tokenize(d, engine=\"attacut\"))#, keep_whitespace=False))\n",
    "   deepcut_doc_token.append(word_tokenize(d, engine=\"deepcut\"))#, keep_whitespace=False))\n",
    "#doc_token[8]\n",
    "\n",
    "\n"
   ]
  },
  {
   "cell_type": "code",
   "execution_count": 4,
   "metadata": {},
   "outputs": [],
   "source": [
    "# deepcut_doc_token\n",
    "# f = open('text1.txt', 'w')\n",
    "# with open('text1.txt', 'w',encoding='utf-8') as f:\n",
    "#     f.write(str(deepcut_doc_token))\n",
    "\n",
    "attacut_doc_token\n",
    "f = open('text1.txt', 'w')\n",
    "with open('text1.txt', 'w',encoding='utf-8') as f:\n",
    "    f.write(str(attacut_doc_token))"
   ]
  },
  {
   "cell_type": "code",
   "execution_count": 8,
   "metadata": {},
   "outputs": [
    {
     "data": {
      "text/html": [
       "<div>\n",
       "<style scoped>\n",
       "    .dataframe tbody tr th:only-of-type {\n",
       "        vertical-align: middle;\n",
       "    }\n",
       "\n",
       "    .dataframe tbody tr th {\n",
       "        vertical-align: top;\n",
       "    }\n",
       "\n",
       "    .dataframe thead th {\n",
       "        text-align: right;\n",
       "    }\n",
       "</style>\n",
       "<table border=\"1\" class=\"dataframe\">\n",
       "  <thead>\n",
       "    <tr style=\"text-align: right;\">\n",
       "      <th></th>\n",
       "      <th>!</th>\n",
       "      <th>?</th>\n",
       "      <th>AuthorityBiasเป็น</th>\n",
       "      <th>BackfireEffect</th>\n",
       "      <th>BeliefBiasการ</th>\n",
       "      <th>Blackholeเป็น</th>\n",
       "      <th>Clasper</th>\n",
       "      <th>ConfirmationBias</th>\n",
       "      <th>Conformalcycliccosmologyทฤษฎี</th>\n",
       "      <th>Gonopodiumกิ้งก่า</th>\n",
       "      <th>...</th>\n",
       "      <th>ไว</th>\n",
       "      <th>ไว้</th>\n",
       "      <th>ไหน</th>\n",
       "      <th>ไหนAvailabilityCascade</th>\n",
       "      <th>ไหม</th>\n",
       "      <th>ไหลวน</th>\n",
       "      <th>ไอน์สไตน์</th>\n",
       "      <th>ไอเดีย</th>\n",
       "      <th>ๆ</th>\n",
       "      <th>–</th>\n",
       "    </tr>\n",
       "  </thead>\n",
       "  <tbody>\n",
       "    <tr>\n",
       "      <th>2</th>\n",
       "      <td>0.037845</td>\n",
       "      <td>0.0</td>\n",
       "      <td>0.0</td>\n",
       "      <td>0.0</td>\n",
       "      <td>0.0</td>\n",
       "      <td>0.0</td>\n",
       "      <td>0.0</td>\n",
       "      <td>0.0</td>\n",
       "      <td>0.0</td>\n",
       "      <td>0.0</td>\n",
       "      <td>...</td>\n",
       "      <td>0.0</td>\n",
       "      <td>0.0</td>\n",
       "      <td>0.0</td>\n",
       "      <td>0.0</td>\n",
       "      <td>0.0</td>\n",
       "      <td>0.0</td>\n",
       "      <td>0.0</td>\n",
       "      <td>0.0</td>\n",
       "      <td>0.105803</td>\n",
       "      <td>0.0</td>\n",
       "    </tr>\n",
       "  </tbody>\n",
       "</table>\n",
       "<p>1 rows × 1053 columns</p>\n",
       "</div>"
      ],
      "text/plain": [
       "          !    ?  AuthorityBiasเป็น  BackfireEffect  BeliefBiasการ  \\\n",
       "2  0.037845  0.0                0.0             0.0            0.0   \n",
       "\n",
       "   Blackholeเป็น  Clasper  ConfirmationBias  Conformalcycliccosmologyทฤษฎี  \\\n",
       "2            0.0      0.0               0.0                            0.0   \n",
       "\n",
       "   Gonopodiumกิ้งก่า  ...   ไว  ไว้  ไหน  ไหนAvailabilityCascade  ไหม  ไหลวน  \\\n",
       "2                0.0  ...  0.0  0.0  0.0                     0.0  0.0    0.0   \n",
       "\n",
       "   ไอน์สไตน์  ไอเดีย         ๆ    –  \n",
       "2        0.0     0.0  0.105803  0.0  \n",
       "\n",
       "[1 rows x 1053 columns]"
      ]
     },
     "execution_count": 8,
     "metadata": {},
     "output_type": "execute_result"
    }
   ],
   "source": [
    "def identity_fun(text):\n",
    "    return text\n",
    "\n",
    "tfidf_vectorizer = TfidfVectorizer(analyzer = 'word', #this is default\n",
    "                                   tokenizer=identity_fun, #does no extra tokenizing\n",
    "                                   preprocessor=identity_fun, #no extra preprocessor\n",
    "                                   token_pattern=None)\n",
    "\n",
    "#tfidf_vector = tfidf_vectorizer.fit_transform(deepcut_doc_token)\n",
    "tfidf_vector = tfidf_vectorizer.fit_transform(attacut_doc_token)\n",
    "\n",
    "\n",
    "tfidf_array = np.array(tfidf_vector.todense())\n",
    "tfidf_vectorizer.vocabulary_ #ดูคำ\n",
    "\n",
    "#เซฟลง CSV file\n",
    "ddf = pd.DataFrame(tfidf_vectorizer.get_feature_names_out())\n",
    "ddf.to_csv('file.csv',index=True)\n",
    "\n",
    "#แปลงเป็น DataFrame เพื่อง่ายแก่การอ่าน\n",
    "df = pd.DataFrame(tfidf_array,columns=tfidf_vectorizer.get_feature_names_out())\n",
    "df.iloc[2:3]"
   ]
  },
  {
   "cell_type": "code",
   "execution_count": 6,
   "metadata": {},
   "outputs": [
    {
     "name": "stdout",
     "output_type": "stream",
     "text": [
      "[list(['อนันต์', 'ขนาด', 'ที่', 'ว่า', 'เซ็ต', 'จะ', 'ไม่', 'จำนวน', 'ก็', 'ถึง'])\n",
      " list(['สมอง', 'ที่', 'รัก', 'ความ', 'ได้', 'ใน', 'เป็น', 'รู้สึก', 'การ', 'กัน'])\n",
      " list(['ผลึก', 'เวลา', 'ที่', 'ห้อง', 'เป็น', 'อุณหภูมิ', 'วิจัย', 'มา', 'ระบบ', 'ใน'])\n",
      " list(['อากาศ', 'ต้าน', 'วัตถุ', 'แรง', 'ที่', 'เร็ว', 'เคลื่อน', 'จะ', 'ไม่', 'การ'])\n",
      " list(['ไขมัน', 'สมอง', 'ร่างกาย', 'ภาวะ', 'ใน', 'วิจัย', 'ทดสอบ', 'อ้วน', 'การ', 'คิด'])\n",
      " list(['เชื่อ', 'ว่า', 'ที่', 'คน', 'ๆ', 'สม', 'ดี', 'รู้สึก', 'ไม่', 'เช่น'])\n",
      " list(['อนุภาค', 'ได้', 'ผลิต', 'อย่าง', 'ใน', 'เหมือน', 'ที่', 'ระดับ', 'วัตถุ', 'ให้'])\n",
      " list(['เอกภพ', 'บิ๊กแบง', 'ที่', 'มา', 'ของ', 'จุด', 'รังสี', 'ก่อนหน้า', 'ใน', 'ว่า'])\n",
      " list(['พันธุ์', 'มี', 'กระจู๋', 'ที่', 'ผสม', 'สืบ', 'จะ', 'ใน', 'สัตว์', 'การ'])\n",
      " list(['หลุม', 'ดำ', 'ที่', 'โดดเดี่ยว', 'นักดาราศาสตร์', 'มัน', 'วัตถุ', 'มี', 'ว่า', 'ค้น'])]\n"
     ]
    }
   ],
   "source": [
    "print(df.apply(lambda s: s.nlargest(10).index.tolist(), axis=1).ravel()) "
   ]
  },
  {
   "cell_type": "code",
   "execution_count": null,
   "metadata": {},
   "outputs": [],
   "source": []
  },
  {
   "cell_type": "markdown",
   "metadata": {},
   "source": []
  }
 ],
 "metadata": {
  "interpreter": {
   "hash": "69eb92836b941e979072a76c7fcfffe5419cca933cedd02cfafbdfca1a93358c"
  },
  "kernelspec": {
   "display_name": "Python 3.9.10 64-bit",
   "language": "python",
   "name": "python3"
  },
  "language_info": {
   "codemirror_mode": {
    "name": "ipython",
    "version": 3
   },
   "file_extension": ".py",
   "mimetype": "text/x-python",
   "name": "python",
   "nbconvert_exporter": "python",
   "pygments_lexer": "ipython3",
   "version": "3.9.10"
  },
  "orig_nbformat": 4
 },
 "nbformat": 4,
 "nbformat_minor": 2
}
